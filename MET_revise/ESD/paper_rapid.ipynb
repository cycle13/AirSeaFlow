{
 "cells": [
  {
   "cell_type": "markdown",
   "metadata": {},
   "source": [
    "# Copyright Netherlands eScience Center <br>\n",
    "** Function     : Compare Ocean Heat Content (ORAS4,GLORYS2V3,SODA3,NEMO)** <br>\n",
    "** Author       : Yang Liu ** <br>\n",
    "** First Built  : 2019.04.06 ** <br>\n",
    "** Last Update  : 2019.04.06 ** <br>\n",
    "Description     : The code aims to compare the oceanic meridional energy transport\n",
    "                  calculated from different oceanic reanalysis datasets. In this,\n",
    "                  case, this includes GLORYS2V3 from Mercator Ocean, ORAS4 from ECMWF,\n",
    "                  and SODA3 from University of Maryland & TAMU.<br>\n",
    "\n",
    "Return Value    : NetCFD4 data file<br>\n",
    "Dependencies    : os, time, numpy, netCDF4, sys, matplotlib, logging<br>\n",
    "variables       : Ocean Heat Content                    OHC       [Joule]<br>\n",
    "Caveat!!        : Resolution\n",
    "\n",
    "                  GLORYS2V3   1993 - 2014\n",
    "                  ORAS4       1958 - 2014\n",
    "                  SODA3       1980 - 2015\n",
    "                  NEMO ORCA   1979 - 2012\n",
    "                  \n",
    "                  MOM5 Grid\n",
    "                  Direction of Axis: from south to north, west to east\n",
    "                  Model Level: MOM5 Arakawa-B grid\n",
    "                  Dimension:\n",
    "                  Latitude      1070\n",
    "                  Longitude     1440\n",
    "                  Depth         50\n",
    "                  \n",
    "                  ORCA1 Grid\n",
    "                  Direction of Axis: from south to north, west to east\n",
    "                  Model Level: ORCA Arakawa-C grid\n",
    "                  Dimension:\n",
    "                  Latitude      362\n",
    "                  Longitude     292\n",
    "                  Depth         42\n",
    "                  \n",
    "                  ORCA025 Grid\n",
    "                  Direction of Axis: from south to north, west to east\n",
    "                  Model Level: ORCA Arakawa-C grid\n",
    "                  Dimension:\n",
    "                  Latitude      1021\n",
    "                  Longitude     1440\n",
    "                  Depth         75\n",
    "\n",
    "                  ORCA083 Grid\n",
    "                  Direction of Axis: from south to north, west to east\n",
    "                  Model Level: ORCA Arakawa-C grid\n",
    "                  Dimension:\n",
    "                  Latitude      1565\n",
    "                  Longitude     4322\n",
    "                  Depth         75\n",
    "\n",
    "                  The mask might have filled value of 1E+20 (in order to maintain\n",
    "                  the size of the netCDF file and make full use of the storage). When\n",
    "                  take the mean of intergral, this could result in abnormal large results.\n",
    "                  With an aim to avoid this problem, it is important to re-set the filled\n",
    "                  value to be 0 and then take the array with filled value during calculation.\n",
    "                  (use \"masked_array.filled()\")"
   ]
  },
  {
   "cell_type": "code",
   "execution_count": null,
   "metadata": {},
   "outputs": [],
   "source": []
  }
 ],
 "metadata": {
  "kernelspec": {
   "display_name": "Python 3",
   "language": "python",
   "name": "python3"
  },
  "language_info": {
   "codemirror_mode": {
    "name": "ipython",
    "version": 3
   },
   "file_extension": ".py",
   "mimetype": "text/x-python",
   "name": "python",
   "nbconvert_exporter": "python",
   "pygments_lexer": "ipython3",
   "version": "3.6.5"
  }
 },
 "nbformat": 4,
 "nbformat_minor": 2
}
