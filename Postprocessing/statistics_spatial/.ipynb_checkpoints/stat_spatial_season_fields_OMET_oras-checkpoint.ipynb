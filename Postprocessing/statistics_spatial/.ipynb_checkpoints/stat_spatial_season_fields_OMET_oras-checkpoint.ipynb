{
 "cells": [
  {
   "cell_type": "markdown",
   "metadata": {},
   "source": [
    "# Copyright Netherlands eScience Center <br>\n",
    "** Function     : Lead/Lag regression of climatological fields on OMET with spatial patterns in certain season** <br>\n",
    "** Author       : Yang Liu ** <br>\n",
    "** First Built  : 2018.08.31 ** <br>\n",
    "** Last Update  : 2018.08.31 ** <br>\n",
    "Description     : This notebook includes the result of the lag regression of climatological fields (e.g. SST, SLP, z500) on OMET. It aims to unveil the relation between the climatological fields and OMET and try to illustrate how the ocean drives the atmosphere through the change of OMET.\n",
    "Besides, the contribution of stationary eddy and steady mean transport are studied here too.<br>\n",
    "Return Values   : jpeg <br>"
   ]
  },
  {
   "cell_type": "code",
   "execution_count": 1,
   "metadata": {},
   "outputs": [],
   "source": [
    "%matplotlib inline\n",
    "\n",
    "import sys\n",
    "sys.path.append(\"/home/yang/NLeSC/Computation_Modeling/Bjerknes/Scripts/META\")\n",
    "import numpy as np\n",
    "import scipy\n",
    "from netCDF4 import Dataset\n",
    "import matplotlib\n",
    "import matplotlib.pyplot as plt\n",
    "import os\n",
    "import meta.statistics\n",
    "import meta.visualizer"
   ]
  },
  {
   "cell_type": "markdown",
   "metadata": {},
   "source": [
    "Initialization - Start with location of input and extraction of variables\n",
    "Time span of each product:\n",
    "- **ERA-Interim** 1979 - 2016\n",
    "- **MERRA2**      1980 - 2016\n",
    "- **JRA55**       1979 - 2015\n",
    "- **ORAS4**       1958 - 2014\n",
    "- **GLORYS2V3**   1993 - 2014\n",
    "- **SODA3**       1980 - 2015"
   ]
  },
  {
   "cell_type": "code",
   "execution_count": 2,
   "metadata": {},
   "outputs": [],
   "source": [
    "# constants\n",
    "constant = {'g' : 9.80616,      # gravititional acceleration [m / s2]\n",
    "            'R' : 6371009,      # radius of the earth [m]\n",
    "            'cp': 1004.64,      # heat capacity of air [J/(Kg*K)]\n",
    "            'Lv': 2264670,      # Latent heat of vaporization [J/Kg]\n",
    "            'R_dry' : 286.9,    # gas constant of dry air [J/(kg*K)]\n",
    "            'R_vap' : 461.5,    # gas constant for water vapour [J/(kg*K)]\n",
    "            }"
   ]
  },
  {
   "cell_type": "code",
   "execution_count": 3,
   "metadata": {},
   "outputs": [
    {
     "name": "stdout",
     "output_type": "stream",
     "text": [
      "*********************** extract variables *************************\n"
     ]
    }
   ],
   "source": [
    "if __name__==\"__main__\":\n",
    "    # sample\n",
    "    ################################   Input zone  ######################################\n",
    "    # specify data path\n",
    "    datapath = '/home/yang/workbench/Core_Database_AMET_OMET_reanalysis/warehouse_met'\n",
    "    datapath_ERAI_fields = '/home/yang/workbench/Core_Database_AMET_OMET_reanalysis/ERAI/regression'\n",
    "    output_path = '/home/yang/NLeSC/Computation_Modeling/Bjerknes/Compensation/MET_leadlag/stat_erai_oras_layer/spatial/fields_omet'\n",
    "    #####################################################################################\n",
    "    print ('*********************** extract variables *************************')\n",
    "    dataset_ERAI_fields_SIC_SST_SLP = Dataset(os.path.join(datapath_ERAI_fields,\n",
    "                                              'surface_ERAI_monthly_regress_1979_2016.nc'))\n",
    "    dataset_ERAI_fields_SFlux = Dataset(os.path.join(datapath_ERAI_fields,\n",
    "                                              'surface_ERAI_monthly_regress_1979_2016_extra.nc'))\n",
    "    dataset_ERAI_500hPa = Dataset(os.path.join(datapath_ERAI_fields,\n",
    "                                                 'pressure_500hPa_ERAI_monthly_regress_1979_2016.nc'))\n",
    "    dataset_ORAS4_OMET = Dataset(os.path.join(datapath,\n",
    "                                              'oras_model_monthly_1958_2017_omet.nc'))\n",
    "    # extract time series from 1979 to 2016\n",
    "    # from 20N - 90N\n",
    "    # 4D fields [year, month, lat, lon]\n",
    "    # geopotential height at 500hPa (m)\n",
    "    z_500hPa_ERAI = dataset_ERAI_500hPa.variables['z'][:] / constant['g']    \n",
    "    # 3D fields [time, lat, lon]\n",
    "    SLP_ERAI = dataset_ERAI_fields_SIC_SST_SLP.variables['msl'][:]\n",
    "    SST_ERAI = dataset_ERAI_fields_SIC_SST_SLP.variables['sst'][:]\n",
    "    SST_ERAI_mask = np.ma.getmaskarray(SST_ERAI[0,:,:])\n",
    "    SIC_ERAI = dataset_ERAI_fields_SIC_SST_SLP.variables['ci'][:]\n",
    "    SIC_ERAI_mask = np.ma.getmaskarray(SIC_ERAI[0,:,:])\n",
    "    # instantaneous turbulent flux\n",
    "    SFlux_sensible_ERAI = dataset_ERAI_fields_SFlux.variables['ishf'][:] # W/m2\n",
    "    SFlux_latent_ERAI = dataset_ERAI_fields_SFlux.variables['ie'][:] * constant['Lv'] # W/m2\n",
    "    # 3D fields [year, month, lat]\n",
    "    OMET_int_ORAS4 = dataset_ORAS4_OMET.variables['E_int'][21:-1,:,180:]/1000 # from Tera Watt to Peta Watt # start from 1979\n",
    "    OMET_atl_int_ORAS4 = dataset_ORAS4_OMET.variables['E_atl_int'][21:-1,:,180:]/1000\n",
    "    OMET_atl_100_int_ORAS4 = dataset_ORAS4_OMET.variables['E_atl_100_int'][21:-1,:,180:]/1000\n",
    "    OMET_atl_300_int_ORAS4 = dataset_ORAS4_OMET.variables['E_atl_300_int'][21:-1,:,180:]/1000\n",
    "    OMET_atl_700_int_ORAS4 = dataset_ORAS4_OMET.variables['E_atl_700_int'][21:-1,:,180:]/1000\n",
    "    OMET_atl_2000_int_ORAS4 = dataset_ORAS4_OMET.variables['E_atl_2000_int'][21:-1,:,180:]/1000\n",
    "    \n",
    "    OMET_pac_int_ORAS4 = dataset_ORAS4_OMET.variables['E_pac_int'][21:-1,:,180:]/1000  \n",
    "    # other dimensions\n",
    "    year_ORAS4 = dataset_ORAS4_OMET.variables['year'][21:-1]    # from 1979 to 2016\n",
    "    latitude_OMET_ORAS4 = dataset_ORAS4_OMET.variables['latitude_aux'][180:]\n",
    "    latitude_fields_ERAI = dataset_ERAI_fields_SIC_SST_SLP.variables['latitude'][:]\n",
    "    longitude_fields_ERAI = dataset_ERAI_fields_SIC_SST_SLP.variables['longitude'][:]"
   ]
  },
  {
   "cell_type": "code",
   "execution_count": 4,
   "metadata": {},
   "outputs": [
    {
     "name": "stdout",
     "output_type": "stream",
     "text": [
      "*******************  postprocess with statistical tool  *********************\n",
      "***********!@#$%^&*     Lead/ Lag regression of ORAS4   !@#$%^&***********\n",
      "======================   OMET + atl + 60N & SST + winter   =====================\n"
     ]
    },
    {
     "ename": "UnboundLocalError",
     "evalue": "local variable 'month_1' referenced before assignment",
     "output_type": "error",
     "traceback": [
      "\u001b[0;31m---------------------------------------------------------------------------\u001b[0m",
      "\u001b[0;31mUnboundLocalError\u001b[0m                         Traceback (most recent call last)",
      "\u001b[0;32m<ipython-input-4-a60d830bf3ee>\u001b[0m in \u001b[0;36m<module>\u001b[0;34m()\u001b[0m\n\u001b[1;32m      4\u001b[0m \u001b[0;31m#\u001b[0m\u001b[0;34m\u001b[0m\u001b[0;34m\u001b[0m\u001b[0m\n\u001b[1;32m      5\u001b[0m OMET_season_series = meta.statistics.operator.seasons(OMET_atl_int_ORAS4[:,:,53],\n\u001b[0;32m----> 6\u001b[0;31m                                                       span='DJF', Dim_month=True)\n\u001b[0m\u001b[1;32m      7\u001b[0m SST_season_series = meta.statistics.operator.seasons(SST_ERAI[:,:95,:],\n\u001b[1;32m      8\u001b[0m                                                      span='DJF')\n",
      "\u001b[0;32m~/NLeSC/Computation_Modeling/Bjerknes/Scripts/META/meta/statistics.py\u001b[0m in \u001b[0;36mseasons\u001b[0;34m(series, span, Dim_month)\u001b[0m\n\u001b[1;32m    328\u001b[0m         \u001b[0;32melif\u001b[0m \u001b[0mspan\u001b[0m \u001b[0;34m==\u001b[0m \u001b[0;34m'MAM'\u001b[0m\u001b[0;34m:\u001b[0m\u001b[0;34m\u001b[0m\u001b[0m\n\u001b[1;32m    329\u001b[0m             \u001b[0mmonth_1\u001b[0m \u001b[0;34m=\u001b[0m \u001b[0;36m3\u001b[0m\u001b[0;34m\u001b[0m\u001b[0m\n\u001b[0;32m--> 330\u001b[0;31m         \u001b[0mmonth_2\u001b[0m \u001b[0;34m=\u001b[0m \u001b[0mmonth_1\u001b[0m \u001b[0;34m+\u001b[0m \u001b[0;36m1\u001b[0m\u001b[0;34m\u001b[0m\u001b[0m\n\u001b[0m\u001b[1;32m    331\u001b[0m         \u001b[0mmonth_3\u001b[0m \u001b[0;34m=\u001b[0m \u001b[0mmonth_1\u001b[0m \u001b[0;34m+\u001b[0m \u001b[0;36m2\u001b[0m\u001b[0;34m\u001b[0m\u001b[0m\n\u001b[1;32m    332\u001b[0m         \u001b[0;31m# now we deal with the exception\u001b[0m\u001b[0;34m\u001b[0m\u001b[0;34m\u001b[0m\u001b[0m\n",
      "\u001b[0;31mUnboundLocalError\u001b[0m: local variable 'month_1' referenced before assignment"
     ]
    }
   ],
   "source": [
    "    print ('*******************  postprocess with statistical tool  *********************')\n",
    "    print ('***********!@#$%^&*     Lead/ Lag regression of ORAS4   !@#$%^&***********')\n",
    "    print ('======================   OMET + atl + 60N & SST + winter   =====================')\n",
    "    # \n",
    "    OMET_season_series = meta.statistics.operator.seasons(OMET_atl_int_ORAS4[:,:,53],\n",
    "                                                          span='DJF', Dim_month=True)\n",
    "    SST_season_series = meta.statistics.operator.seasons(SST_ERAI[:,:95,:],\n",
    "                                                         span='DJF')"
   ]
  },
  {
   "cell_type": "code",
   "execution_count": null,
   "metadata": {},
   "outputs": [],
   "source": []
  }
 ],
 "metadata": {
  "kernelspec": {
   "display_name": "Python 3",
   "language": "python",
   "name": "python3"
  },
  "language_info": {
   "codemirror_mode": {
    "name": "ipython",
    "version": 3
   },
   "file_extension": ".py",
   "mimetype": "text/x-python",
   "name": "python",
   "nbconvert_exporter": "python",
   "pygments_lexer": "ipython3",
   "version": "3.6.3"
  }
 },
 "nbformat": 4,
 "nbformat_minor": 2
}
