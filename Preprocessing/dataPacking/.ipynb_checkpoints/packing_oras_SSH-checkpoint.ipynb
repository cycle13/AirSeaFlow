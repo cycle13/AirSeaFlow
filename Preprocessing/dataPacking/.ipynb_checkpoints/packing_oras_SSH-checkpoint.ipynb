{
 "cells": [
  {
   "cell_type": "markdown",
   "metadata": {},
   "source": [
    "# Copyright Netherlands eScience Center <br>\n",
    "** Function     : Packing netCDF for the sea surface height fields from ORAS4 ** <br>\n",
    "** Author       : Yang Liu ** <br>\n",
    "** First Built  : 2018.10.12 ** <br>\n",
    "** Last Update  : 2018.10.12 ** <br>\n",
    "Description     : This notebook aims to pack the sea surface height(SSH) fields from ORAS4. The SSH data can be taken as a indicator of the gyre strength. Hence it can provides information about the energy transport given by <br>\n",
    "Return Values   : netCDF4 <br>\n",
    "Caveat          : The data is monthly mean."
   ]
  },
  {
   "cell_type": "code",
   "execution_count": null,
   "metadata": {},
   "outputs": [],
   "source": [
    "import numpy as np\n",
    "import scipy as sp\n",
    "import time as tttt\n",
    "from netCDF4 import Dataset,num2date\n",
    "import os"
   ]
  },
  {
   "cell_type": "code",
   "execution_count": null,
   "metadata": {},
   "outputs": [],
   "source": [
    "################################   Input zone  #########################################\n",
    "# specify starting and ending time\n",
    "start_year = 1958\n",
    "end_year = 2017\n",
    "# specify data path\n",
    "# ERAI 3D fields on pressure level\n",
    "datapath = '/home/yang/workbench/Core_Database_AMET_OMET_reanalysis/ORAS4/regression/ssh'\n",
    "# specify output path for figures\n",
    "output_path = '/home/yang/workbench/Core_Database_AMET_OMET_reanalysis/ORAS4/regression'\n",
    "########################################################################################"
   ]
  },
  {
   "cell_type": "code",
   "execution_count": null,
   "metadata": {},
   "outputs": [],
   "source": [
    "def var_key(datapath, year):\n",
    "    # get the path to each datasets\n",
    "    print (\"Start retrieving datasets\")\n",
    "    datapath_ssh = os.path.join(datapath, 'zos_oras4_1m_{}_grid_T.nc'.format(year))\n",
    "\n",
    "    # get the variable keys\n",
    "    ssh_key = Dataset(datapath_theta)\n",
    "\n",
    "    print (\"Retrieving datasets for the year {} successfully!\".format(year))\n",
    "    return ssh_key"
   ]
  },
  {
   "cell_type": "code",
   "execution_count": null,
   "metadata": {},
   "outputs": [],
   "source": [
    "def create_netcdf_point (ssh_pool, Dim_year, Dim_month, Dim_latitude,\n",
    "                         Dim_longitude, output_path):\n",
    "    print ('*******************************************************************')\n",
    "    print ('*********************** create netcdf file*************************')\n",
    "    print ('*******************************************************************')\n",
    "    #logging.info(\"Start creating netcdf file for the 2D fields of ERAI at each grid point.\")\n",
    "    # wrap the datasets into netcdf file\n",
    "    # 'NETCDF3_CLASSIC', 'NETCDF3_64BIT', 'NETCDF4_CLASSIC', and 'NETCDF4'\n",
    "    data_wrap = Dataset(os.path.join(output_path, 'oras_monthly_regress_1958_2017_ssh.nc'),'w',format = 'NETCDF4')\n",
    "    # create dimensions for netcdf data\n",
    "    year_wrap_dim = data_wrap.createDimension('year',Dim_year)\n",
    "    month_wrap_dim = data_wrap.createDimension('month',Dim_month)\n",
    "    lat_wrap_dim = data_wrap.createDimension('latitude',Dim_latitude)\n",
    "    lon_wrap_dim = data_wrap.createDimension('longitude',Dim_longitude)\n",
    "    # create coordinate variable\n",
    "    year_wrap_var = data_wrap.createVariable('year',np.int32,('year',))\n",
    "    month_wrap_var = data_wrap.createVariable('month',np.int32,('month',))\n",
    "    # create the actual 4d variable\n",
    "    ssh_wrap_var = data_wrap.createVariable('ssh',np.float64,('year','month','latitude','longitude'),zlib=True)\n",
    "    # global attributes\n",
    "    data_wrap.description = 'Monthly mean 2D fields of ORAS4 on T grid'\n",
    "    # variable attributes\n",
    "    ssh_wrap_var.units = 'm'\n",
    "    ssh_wrap_var.long_name = 'sea surface height'\n",
    "\n",
    "    # writing data\n",
    "    month_wrap_var[:] = index_month\n",
    "    year_wrap_var[:] = period\n",
    "    ssh_wrap_var[:] = ssh_pool\n",
    "\n",
    "    # close the file\n",
    "    data_wrap.close()\n",
    "    print (\"The generation of netcdf files for fields on surface is complete!!\")"
   ]
  },
  {
   "cell_type": "code",
   "execution_count": null,
   "metadata": {},
   "outputs": [],
   "source": [
    "if __name__==\"__main__\":\n",
    "    # create the year index\n",
    "    period = np.arange(start_year,end_year+1,1)\n",
    "    index_month = np.arange(1,13,1)\n",
    "    # dimensions\n",
    "    Dim_year = len(period)\n",
    "    Dim_month = len(index_month)\n",
    "    # ORCA1_z42 grid infor (Madec and Imbard 1996)\n",
    "    ji = 362\n",
    "    jj = 292\n",
    "    Dim_latitude = jj\n",
    "    Dim_longitude = ji\n",
    "    # create space to save fields\n",
    "    ssh_pool = np.zeros((Dim_year,Dim_month,Dim_latitude,Dim_longitude),dtype = float)\n",
    "    # loop for calculation\n",
    "    for i in period:\n",
    "        # get the key of each variable\n",
    "        var_key = var_key_retrieve(datapath,i)\n",
    "        ssh = var_key.variables['zos'][:]\n",
    "        ssh_pool[i-1958,:,:,:] = ssh\n",
    "    ####################################################################\n",
    "    ######                 Data Wrapping (NetCDF)                #######\n",
    "    ####################################################################\n",
    "    create_netcdf_point(ssh_pool, Dim_year, Dim_month, Dim_latitude,\n",
    "                        Dim_longitude, output_path)\n",
    "    print ('Packing 2D fields of ORAS4 on T grid is complete!!!')\n",
    "    print ('The output is in sleep, safe and sound!!!')    "
   ]
  }
 ],
 "metadata": {
  "kernelspec": {
   "display_name": "Python 3",
   "language": "python",
   "name": "python3"
  },
  "language_info": {
   "codemirror_mode": {
    "name": "ipython",
    "version": 3
   },
   "file_extension": ".py",
   "mimetype": "text/x-python",
   "name": "python",
   "nbconvert_exporter": "python",
   "pygments_lexer": "ipython3",
   "version": "3.6.3"
  }
 },
 "nbformat": 4,
 "nbformat_minor": 2
}
