{
 "cells": [
  {
   "cell_type": "markdown",
   "metadata": {},
   "source": [
    "# Copyright Netherlands eScience Center <br>\n",
    "** Function     : Compute monthly mean variance of geopotential at 500hPa (ERAI)** <br>\n",
    "** Author       : Yang Liu ** <br>\n",
    "** First Built  : 2018.10.11 ** <br>\n",
    "** Last Update  : 2018.10.11 ** <br>\n",
    "Description  : This script serves to calculate the monthly mean variance of the geopotential at 500hPa based on subdaily data. The variance of Z500 is a good indicator of the behavior of cyclones. This can provide extra information about the role of transient eddy when we investigate the meridional energy transport.<br>\n",
    "\n",
    "Return Values : jpeg <br>\n",
    "Caveat!         :  <br>"
   ]
  },
  {
   "cell_type": "code",
   "execution_count": 1,
   "metadata": {},
   "outputs": [],
   "source": [
    "%matplotlib inline\n",
    "\n",
    "import sys\n",
    "import numpy as np\n",
    "import scipy\n",
    "from scipy import stats\n",
    "from netCDF4 import Dataset\n",
    "import os"
   ]
  },
  {
   "cell_type": "markdown",
   "metadata": {},
   "source": [
    "Initialization - Start with location of input and extraction of variables\n",
    "Time span of each product:\n",
    "- **ERA-Interim** 1979 - 2016\n",
    "- **MERRA2**      1980 - 2016\n",
    "- **JRA55**       1979 - 2015\n",
    "- **ORAS4**       1958 - 2017\n",
    "- **GLORYS2V3**   1993 - 2014\n",
    "- **SODA3**       1980 - 2015"
   ]
  },
  {
   "cell_type": "code",
   "execution_count": 2,
   "metadata": {},
   "outputs": [],
   "source": [
    "################################   Input zone  ######################################\n",
    "# specify starting and ending time\n",
    "start_year = 1979\n",
    "end_year = 2017\n",
    "# specify data path\n",
    "# ERAI 3D fields on pressure level\n",
    "datapath = '/home/yang/workbench/Core_Database_AMET_OMET_reanalysis/ERAI/regression/pressure/daily'\n",
    "# specify output path for figures\n",
    "output_path = '/home/yang/workbench/Core_Database_AMET_OMET_reanalysis/ERAI/regression'\n",
    "####################################################################################"
   ]
  },
  {
   "cell_type": "code",
   "execution_count": 3,
   "metadata": {},
   "outputs": [],
   "source": [
    "def var_key_retrieve(datapath, year, month):\n",
    "    # get the path to each datasets\n",
    "    print (\"Start retrieving datasets {} (y) {} (m)\" % (year,month))\n",
    "    # The shape of each variable is (241,480)\n",
    "    datapath = os.path.join(datapath, 'era{}'.format(year),\n",
    "                            'pressure_daily_075_diagnostic_{}_{}_z.nc'.format(year,month))\n",
    "    # get the variable keys\n",
    "    var_key = Dataset(datapath)\n",
    "\n",
    "    print (\"Retrieving datasets successfully and return the variable key!\")\n",
    "    return var_key"
   ]
  },
  {
   "cell_type": "code",
   "execution_count": 4,
   "metadata": {},
   "outputs": [],
   "source": [
    "def create_netcdf_point (pool_z500var, output_path):\n",
    "    print ('*******************************************************************')\n",
    "    print ('*********************** create netcdf file*************************')\n",
    "    print ('*******************************************************************')\n",
    "    #logging.info(\"Start creating netcdf file for the 2D fields of ERAI at each grid point.\")\n",
    "    # wrap the datasets into netcdf file\n",
    "    # 'NETCDF3_CLASSIC', 'NETCDF3_64BIT', 'NETCDF4_CLASSIC', and 'NETCDF4'\n",
    "    data_wrap = Dataset(os.path.join(output_path, 'pressure_erai_subdaily_regress_1979_2017_z500var.nc'),'w',format = 'NETCDF4')\n",
    "    # create dimensions for netcdf data\n",
    "    year_wrap_dim = data_wrap.createDimension('year',Dim_year)\n",
    "    month_wrap_dim = data_wrap.createDimension('month',Dim_month)\n",
    "    lat_wrap_dim = data_wrap.createDimension('latitude',Dim_latitude)\n",
    "    lon_wrap_dim = data_wrap.createDimension('longitude',Dim_longitude)\n",
    "    # create coordinate variable\n",
    "    year_wrap_var = data_wrap.createVariable('year',np.int32,('year',))\n",
    "    month_wrap_var = data_wrap.createVariable('month',np.int32,('month',))\n",
    "    lat_wrap_var = data_wrap.createVariable('latitude',np.float32,('latitude',))\n",
    "    lon_wrap_var = data_wrap.createVariable('longitude',np.float32,('longitude',))\n",
    "    # create the actual 4d variable\n",
    "    z500var_wrap_var = data_wrap.createVariable('z500var',np.float64,('year','month','latitude','longitude'),zlib=True) \n",
    "    # global attributes\n",
    "    data_wrap.description = 'Monthly mean 2D fields of ERA-Interim on pressure level'\n",
    "    # variable attributes\n",
    "    lat_wrap_var.units = 'degree_north'\n",
    "    lon_wrap_var.units = 'degree_east'\n",
    "    z500var_wrap_var.units = 'm2'\n",
    "    z500var_wrap_var.long_name = 'monthly mean variance of subdaily geopotential height at 500hPa'\n",
    "    # writing data\n",
    "    lat_wrap_var[:] = latitude\n",
    "    lon_wrap_var[:] = longitude\n",
    "    month_wrap_var[:] = index_month\n",
    "    year_wrap_var[:] = period\n",
    "\n",
    "    z500var_wrap_var[:] = pool_z500var\n",
    "\n",
    "    # close the file\n",
    "    data_wrap.close()\n",
    "    print (\"The generation of netcdf files for fields on surface is complete!!\")"
   ]
  },
  {
   "cell_type": "code",
   "execution_count": 5,
   "metadata": {},
   "outputs": [],
   "source": [
    "def retriver(key):\n",
    "    print ('Extract subdaily fields and calculate the variance for each month.')\n",
    "    z500 = var_key.variables['z'][:,1,:,:] # we only need z500\n",
    "    var_2D = np.var(z500, axis=0, ddof=0)\n",
    "    \n",
    "    return var_2D"
   ]
  },
  {
   "cell_type": "code",
   "execution_count": null,
   "metadata": {},
   "outputs": [],
   "source": [
    "if __name__==\"__main__\":\n",
    "    ####################################################################\n",
    "    ######  Create time namelist matrix for variable extraction  #######\n",
    "    ####################################################################\n",
    "    # date and time arrangement\n",
    "    # namelist of month and days for file manipulation\n",
    "    namelist_month = ['1','2','3','4','5','6','7','8','9','10','11','12']\n",
    "    # index of months\n",
    "    period = np.arange(start_year,end_year+1,1)\n",
    "    index_month = np.arange(1,13,1)\n",
    "    ####################################################################\n",
    "    ######       Extract invariant and calculate constants       #######\n",
    "    ####################################################################\n",
    "    # get invariant from benchmark file\n",
    "    Dim_year = len(period)\n",
    "    Dim_month = len(index_month)\n",
    "    Dim_latitude = 241\n",
    "    Dim_longitude = 480\n",
    "    #############################################\n",
    "    #####   Create space for stroing data   #####\n",
    "    #############################################\n",
    "    # data pool\n",
    "    pool_z500var = np.zeros((Dim_year,Dim_month,Dim_latitude,Dim_longitude),dtype = float)\n",
    "    latitude = np.zeros(Dim_latitude,dtype=float)\n",
    "    longitude = np.zeros(Dim_longitude,dtype=float)\n",
    "    # loop for calculation\n",
    "    for i in period:\n",
    "        for j in index_month:\n",
    "        # get the key of each variable\n",
    "            var_key = var_key_retrieve(datapath,i, j)\n",
    "            latitude = var_key.variables['latitude'][:]\n",
    "            longitude = var_key.variables['longitude'][:]\n",
    "            z500var = retriver(var_key)\n",
    "            pool_z500var[i-1979,j-1,:,:] = z500var\n",
    "    ####################################################################\n",
    "    ######                 Data Wrapping (NetCDF)                #######\n",
    "    ####################################################################\n",
    "    create_netcdf_point(pool_z500var, output_path)\n",
    "    print ('Packing 2D fields of ERA-Interim on pressure level is complete!!!')\n",
    "    print ('The output is in sleep, safe and sound!!!')"
   ]
  }
 ],
 "metadata": {
  "kernelspec": {
   "display_name": "Python 3",
   "language": "python",
   "name": "python3"
  },
  "language_info": {
   "codemirror_mode": {
    "name": "ipython",
    "version": 3
   },
   "file_extension": ".py",
   "mimetype": "text/x-python",
   "name": "python",
   "nbconvert_exporter": "python",
   "pygments_lexer": "ipython3",
   "version": "3.6.3"
  }
 },
 "nbformat": 4,
 "nbformat_minor": 2
}
