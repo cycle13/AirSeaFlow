{
 "cells": [
  {
   "cell_type": "markdown",
   "metadata": {},
   "source": [
    "# Copyright Netherlands eScience Center <br>\n",
    "** Function     : Compute monthly mean variance of geopotential at 500hPa (ERAI)** <br>\n",
    "** Author       : Yang Liu ** <br>\n",
    "** First Built  : 2018.10.11 ** <br>\n",
    "** Last Update  : 2018.10.11 ** <br>\n",
    "Description  : This script serves to calculate the monthly mean variance of the geopotential at 500hPa based on subdaily data. The variance of Z500 is a good indicator of the behavior of cyclones. This can provide extra information about the role of transient eddy when we investigate the meridional energy transport.<br>\n",
    "\n",
    "Return Values : jpeg <br>\n",
    "Caveat!         :  <br>"
   ]
  },
  {
   "cell_type": "code",
   "execution_count": null,
   "metadata": {},
   "outputs": [],
   "source": [
    "%matplotlib inline\n",
    "\n",
    "import sys\n",
    "sys.path.append(\"/home/yang/NLeSC/Computation_Modeling/Bjerknes/Scripts/META\")\n",
    "import numpy as np\n",
    "import scipy\n",
    "from scipy import stats\n",
    "from netCDF4 import Dataset\n",
    "import matplotlib\n",
    "import matplotlib.pyplot as plt\n",
    "import os\n",
    "import meta.statistics\n",
    "import meta.visualizer"
   ]
  },
  {
   "cell_type": "markdown",
   "metadata": {},
   "source": [
    "Initialization - Start with location of input and extraction of variables\n",
    "Time span of each product:\n",
    "- **ERA-Interim** 1979 - 2016\n",
    "- **MERRA2**      1980 - 2016\n",
    "- **JRA55**       1979 - 2015\n",
    "- **ORAS4**       1958 - 2017\n",
    "- **GLORYS2V3**   1993 - 2014\n",
    "- **SODA3**       1980 - 2015"
   ]
  },
  {
   "cell_type": "code",
   "execution_count": null,
   "metadata": {},
   "outputs": [],
   "source": []
  }
 ],
 "metadata": {
  "kernelspec": {
   "display_name": "Python 3",
   "language": "python",
   "name": "python3"
  },
  "language_info": {
   "codemirror_mode": {
    "name": "ipython",
    "version": 3
   },
   "file_extension": ".py",
   "mimetype": "text/x-python",
   "name": "python",
   "nbconvert_exporter": "python",
   "pygments_lexer": "ipython3",
   "version": "3.6.3"
  }
 },
 "nbformat": 4,
 "nbformat_minor": 2
}
