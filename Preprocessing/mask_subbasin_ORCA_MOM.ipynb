{
 "cells": [
  {
   "cell_type": "markdown",
   "metadata": {},
   "source": [
    "Copyright Netherlands eScience Center\n",
    "Function        : Create Land-sea mask for Atlantic and Pacific on ORCA1, ORCA025 and MOM5 grid\n"
   ]
  },
  {
   "cell_type": "code",
   "execution_count": 2,
   "metadata": {},
   "outputs": [
    {
     "name": "stdout",
     "output_type": "stream",
     "text": [
      "('64bit', '')\n",
      "<module 'posixpath' from '/home/yang/.pyenv/versions/anaconda3-5.0.1/lib/python3.6/posixpath.py'>\n"
     ]
    }
   ],
   "source": [
    "%matplotlib inline\n",
    "%% timeit\n",
    "\n",
    "import numpy as np\n",
    "import iris\n",
    "import os\n",
    "import sys\n",
    "import seaborn\n",
    "import cartopy\n",
    "import platform\n",
    "from netCDF4 import Dataset\n",
    "\n",
    "# print the system structure and the path of the kernal\n",
    "print (platform.architecture())\n",
    "print (os.path)"
   ]
  },
  {
   "cell_type": "markdown",
   "metadata": {},
   "source": [
    "Specify the paths for input mask files and output netcdf files"
   ]
  }
 ],
 "metadata": {
  "kernelspec": {
   "display_name": "Python 3",
   "language": "python",
   "name": "python3"
  },
  "language_info": {
   "codemirror_mode": {
    "name": "ipython",
    "version": 3
   },
   "file_extension": ".py",
   "mimetype": "text/x-python",
   "name": "python",
   "nbconvert_exporter": "python",
   "pygments_lexer": "ipython3",
   "version": "3.6.3"
  }
 },
 "nbformat": 4,
 "nbformat_minor": 2
}
