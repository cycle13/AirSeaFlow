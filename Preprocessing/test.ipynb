{
 "cells": [
  {
   "cell_type": "code",
   "execution_count": 1,
   "metadata": {},
   "outputs": [],
   "source": [
    "import numpy as np\n",
    "import scipy as sp\n",
    "import time as tttt\n",
    "from netCDF4 import Dataset,num2date\n",
    "import os"
   ]
  },
  {
   "cell_type": "code",
   "execution_count": 2,
   "metadata": {},
   "outputs": [],
   "source": [
    "datapath = '/home/yang/workbench/Core_Database_AMET_OMET_reanalysis/ERAI/regression/surface/radiation'\n",
    "datapath_full = datapath + os.sep + 'surface_erai_monthly_075_1999_radiation.nc'\n",
    "var_key = Dataset(datapath_full)\n",
    "sshf_synoptic = var_key.variables['sshf'][:]\n",
    "slhf_synoptic = var_key.variables['slhf'][:]\n",
    "ssr_synoptic = var_key.variables['ssr'][:]\n",
    "str_synoptic = var_key.variables['str'][:]\n",
    "tsr_synoptic = var_key.variables['tsr'][:]\n",
    "ttr_synoptic = var_key.variables['ttr'][:]\n",
    "\n",
    "sshf_syn = np.zeros(sshf_synoptic.shape)\n",
    "slhf_syn = np.zeros(sshf_synoptic.shape)\n",
    "ssr_syn = np.zeros(sshf_synoptic.shape)\n",
    "str_syn = np.zeros(sshf_synoptic.shape)\n",
    "tsr_syn = np.zeros(sshf_synoptic.shape)\n",
    "ttr_syn = np.zeros(sshf_synoptic.shape)\n",
    "\n",
    "str_syn[0::4,:,:] = str_synoptic[0::4,:,:]\n",
    "tsr_syn[0::4,:,:] = tsr_synoptic[0::4,:,:]\n",
    "\n",
    "for i in np.arange(3):\n",
    "    sshf_synoptic[i+1::4,:,:] = sshf_synoptic[i+1::4,:,:] - sshf_synoptic[i::4,:,:]\n",
    "    slhf_synoptic[i+1::4,:,:] = slhf_synoptic[i+1::4,:,:] - slhf_synoptic[i::4,:,:]\n",
    "    ssr_syn[i+1::4,:,:] = ssr_synoptic[i+1::4,:,:] - ssr_synoptic[i::4,:,:]\n",
    "    str_syn[i+1::4,:,:] = str_synoptic[i+1::4,:,:] - str_synoptic[i::4,:,:]\n",
    "    tsr_syn[i+1::4,:,:] = tsr_synoptic[i+1::4,:,:] - tsr_synoptic[i::4,:,:]\n",
    "    ttr_syn[i+1::4,:,:] = ttr_synoptic[i+1::4,:,:] - ttr_synoptic[i::4,:,:]\n"
   ]
  },
  {
   "cell_type": "code",
   "execution_count": 3,
   "metadata": {},
   "outputs": [
    {
     "name": "stdout",
     "output_type": "stream",
     "text": [
      "########################\n",
      "[  925058.83020768  7214886.08377459  9831399.23324127  5600185.87178979\n",
      "   226252.77890529        0.                0.                0.\n",
      "  1069402.3752308   7823763.8153602  10649345.98837227  6446772.21918728\n",
      "   402672.66726688        0.                0.                0.        ]\n",
      "########################\n",
      "[  925058.83020768  8139944.91398227 17971344.14722354 23571530.01901332\n",
      "   226252.77890529   226252.77890529   226252.77890529   226252.77890529\n",
      "  1069402.3752308   8893166.190591   19542512.17896327 25989284.39815055\n",
      "   402672.66726688   402672.66726688   402672.66726688   402672.66726688]\n",
      "########################\n"
     ]
    }
   ],
   "source": [
    "print ('########################')\n",
    "print (tsr_syn[0:16,100,100])\n",
    "print ('########################')\n",
    "print (tsr_synoptic[0:16,100,100])\n",
    "print ('########################')"
   ]
  },
  {
   "cell_type": "code",
   "execution_count": 4,
   "metadata": {},
   "outputs": [],
   "source": [
    "lat = var_key.variables['latitude'][:]\n",
    "lon = var_key.variables['longitude'][:]\n",
    "tsr_monthly = np.zeros((12, len(lat), len(lon)),dtype=float)\n",
    "for i in np.arange(12):\n",
    "    tsr_monthly[i,:,:] = np.mean(tsr_syn[i*8:i*8+8,:,:],0)"
   ]
  },
  {
   "cell_type": "code",
   "execution_count": 5,
   "metadata": {},
   "outputs": [
    {
     "name": "stdout",
     "output_type": "stream",
     "text": [
      "2974722.8497398263\n",
      "2974722.8497398263\n"
     ]
    }
   ],
   "source": [
    "print (tsr_monthly[0,100,100])\n",
    "print (np.mean(tsr_syn[0:8,100,100]))"
   ]
  }
 ],
 "metadata": {
  "kernelspec": {
   "display_name": "Python 3",
   "language": "python",
   "name": "python3"
  },
  "language_info": {
   "codemirror_mode": {
    "name": "ipython",
    "version": 3
   },
   "file_extension": ".py",
   "mimetype": "text/x-python",
   "name": "python",
   "nbconvert_exporter": "python",
   "pygments_lexer": "ipython3",
   "version": "3.6.3"
  }
 },
 "nbformat": 4,
 "nbformat_minor": 2
}
